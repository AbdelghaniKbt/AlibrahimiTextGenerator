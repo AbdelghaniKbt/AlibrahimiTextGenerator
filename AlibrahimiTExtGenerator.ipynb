{
  "nbformat": 4,
  "nbformat_minor": 0,
  "metadata": {
    "colab": {
      "name": "AlibrahimiTExtGenerator.ipynb",
      "provenance": [],
      "authorship_tag": "ABX9TyOKt4ptZvoXUlxksFks0DUn",
      "include_colab_link": true
    },
    "kernelspec": {
      "name": "python3",
      "display_name": "Python 3"
    },
    "language_info": {
      "name": "python"
    }
  },
  "cells": [
    {
      "cell_type": "markdown",
      "metadata": {
        "id": "view-in-github",
        "colab_type": "text"
      },
      "source": [
        "<a href=\"https://colab.research.google.com/github/AbdelghaniKbt/AlibrahimiTextGenerator/blob/main/AlibrahimiTExtGenerator.ipynb\" target=\"_parent\"><img src=\"https://colab.research.google.com/assets/colab-badge.svg\" alt=\"Open In Colab\"/></a>"
      ]
    },
    {
      "cell_type": "code",
      "execution_count": null,
      "metadata": {
        "id": "Yvjb8VhxWGuv"
      },
      "outputs": [],
      "source": [
        ""
      ]
    }
  ]
}